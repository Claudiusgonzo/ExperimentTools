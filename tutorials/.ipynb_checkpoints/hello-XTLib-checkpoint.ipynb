{
 "cells": [
  {
   "cell_type": "markdown",
   "metadata": {},
   "source": [
    "## Hello XTLib\n",
    "This notebook serves as an introduction to the concepts and API's of XTLib.\n",
    "\n",
    "Let's get started by importing some libraries that we will need for this notebook, including a few from XTLib."
   ]
  },
  {
   "cell_type": "code",
   "execution_count": 34,
   "metadata": {},
   "outputs": [],
   "source": [
    "import os\n",
    "import sys\n",
    "import time\n",
    "import numpy as np\n",
    "\n",
    "import xtlib\n",
    "from xtlib.xt_store import XTStore"
   ]
  },
  {
   "cell_type": "markdown",
   "metadata": {},
   "source": [
    "## XTLib Services\n",
    "XTLib has 2 primary services:\n",
    "    - store (where experiments and related files kept)\n",
    "    - compute (used to scale up your ML runs)\n",
    "    \n",
    "Let's start with the **store** service.  The store we access thru the service can be either file-based (local machine or\n",
    "server), or Azure-based (based on an Azure storage account).  Here, we will use a file-based store so \n",
    "we don't have to enter the Azure storage name and key.  The store service API is the same, no matter which we choose."
   ]
  },
  {
   "cell_type": "code",
   "execution_count": 26,
   "metadata": {},
   "outputs": [
    {
     "name": "stdout",
     "output_type": "stream",
     "text": [
      "<xtlib.xt_store.XTStore object at 0x000002662F7109E8>\n"
     ]
    }
   ],
   "source": [
    "# create an azure store\n",
    "# store = XTStore(\"myazurestore\", \"xxxxxxxxxxxxxx\")\n",
    "\n",
    "# create a file-based store\n",
    "dir = \"./temp_localstore_folder\"\n",
    "\n",
    "# ensure we start with a new store folder, so our notebook knows what to expect\n",
    "if os.path.exists(dir):\n",
    "    os.rmdir(dir)\n",
    "os.mkdir(dir)\n",
    "\n",
    "store = XTStore(\"./localstore_folder\")\n",
    "console.print(store)"
   ]
  },
  {
   "cell_type": "markdown",
   "metadata": {},
   "source": [
    "## Store Concepts\n",
    " Within a store, you will find:\n",
    "        - runs (a run is a single execution of your ML app on a machine)\n",
    "        - experiments (an experiment is a named grouping of your runs)\n",
    "        - workspaces (a workspace can hold multiple experiments and is also the unit of collaboration between users)\n",
    "        - files (files can be associated with workspaces, experiments, and runs)"
   ]
  },
  {
   "cell_type": "code",
   "execution_count": 27,
   "metadata": {},
   "outputs": [
    {
     "name": "stdout",
     "output_type": "stream",
     "text": [
      "['myws']\n"
     ]
    }
   ],
   "source": [
    "# let's start by enumerating the currently defined workspaces\n",
    "\n",
    "ws_list = store.get_workspace_names()\n",
    "console.print(ws_list)"
   ]
  },
  {
   "cell_type": "markdown",
   "metadata": {},
   "source": [
    "## As we might expect, there are not defined yet in our new store.\n",
    "Let's try some more of the workspace functions"
   ]
  },
  {
   "cell_type": "code",
   "execution_count": 29,
   "metadata": {},
   "outputs": [
    {
     "name": "stdout",
     "output_type": "stream",
     "text": [
      "result= True\n",
      "delete_workspace path= ./localstore_folder/myws\n",
      "AFTER, ws exists= False\n",
      "result2= True\n"
     ]
    }
   ],
   "source": [
    "ws_name = \"myws\"\n",
    "\n",
    "result = store.does_workspace_exist(ws_name)\n",
    "console.print(\"result=\", result)\n",
    "\n",
    "if result:\n",
    "    store.delete_workspace(ws_name)\n",
    "    \n",
    "store.create_workspace(ws_name)\n",
    "\n",
    "result2 = store.does_workspace_exist(ws_name)\n",
    "console.print(\"result2=\", result2)\n"
   ]
  },
  {
   "cell_type": "markdown",
   "metadata": {},
   "source": [
    "## Experiments and Runs\n",
    "There is currently no XTLib API for explictly managing experiments, but we can use experiment names as we\n",
    "create runs.  Let's see what that looks like"
   ]
  },
  {
   "cell_type": "code",
   "execution_count": 30,
   "metadata": {},
   "outputs": [
    {
     "name": "stdout",
     "output_type": "stream",
     "text": [
      "run_name= run1\n"
     ]
    },
    {
     "data": {
      "text/plain": [
       "'run1'"
      ]
     },
     "execution_count": 30,
     "metadata": {},
     "output_type": "execute_result"
    }
   ],
   "source": [
    "# we start by getting the next available run_name\n",
    "# note that we pass in the workspace name in which we want to create a run\n",
    "run_name = store.get_next_run_name(ws_name)\n",
    "console.print(\"run_name=\", run_name)\n",
    "\n",
    "# now we can create the run entity (think of this a logging the beginning of an ML training run)\n",
    "exper_name = \"my first experiment\"\n",
    "store.start_run(ws_name, exper_name, run_name)"
   ]
  },
  {
   "cell_type": "markdown",
   "metadata": {},
   "source": [
    "# OK, that seemed to work.\n",
    "Typically, an ML app would log values of hyperparameters and metrics during the run.  Let's simulate an ML app\n",
    "and do the logging, including the call to end_run()."
   ]
  },
  {
   "cell_type": "code",
   "execution_count": 38,
   "metadata": {},
   "outputs": [
    {
     "name": "stdout",
     "output_type": "stream",
     "text": [
      "epoch 0\n",
      "epoch 10\n",
      "epoch 20\n"
     ]
    }
   ],
   "source": [
    "# log hyperparameters used for this run\n",
    "lr = .01\n",
    "epochs = 30\n",
    "store.log_run_event(ws_name, run_name, \"hp\", {\"lr\": lr, \"epochs\": epochs})\n",
    "                                                     \n",
    "# simulate some training                                                    \n",
    "for epoch in range(epochs):\n",
    "    time.sleep(.1)   \n",
    "                                                      \n",
    "    if epoch % 10 == 0:\n",
    "                                                      \n",
    "        console.print(\"epoch\", epoch)\n",
    "        val_loss = .5*np.random.random()\n",
    "        val_acc = .5 + .5*np.random.random()\n",
    "        \n",
    "        # we can log hp/metrics one or multiple name/value pairs within a single call\n",
    "        store.log_run_event(ws_name, run_name, \"metrics\", {\"val_loss\": val_loss})\n",
    "        store.log_run_event(ws_name, run_name, \"metrics\", {\"val_acc\": val_acc})\n",
    "        \n",
    "# simulate end of training run\n",
    "rollups = {\"val_loss\": val_loss, \"val_acc\": val_acc}\n",
    "store.end_run(ws_name, exper_name, run_name, status=\"completed\", exit_code=0, metrics_rollup_dict=rollups)\n",
    "                                                      \n",
    "                                                      "
   ]
  },
  {
   "cell_type": "markdown",
   "metadata": {},
   "source": [
    "## Compute Concepts\n",
    " The compute services deals with:\n",
    "        - boxes\n",
    "        - pools\n"
   ]
  },
  {
   "cell_type": "code",
   "execution_count": null,
   "metadata": {},
   "outputs": [],
   "source": [
    "\n",
    "\n",
    "# create a store service instance to gain access to the XT STORE\n",
    "store = XStore()"
   ]
  },
  {
   "cell_type": "markdown",
   "metadata": {},
   "source": [
    "## XTLib has 2 primary services:\n",
    "    - the store service (holds workspaces, experiments, runs, and their related files)\n",
    "    - the compute service (which manages compute resources and runs)"
   ]
  },
  {
   "cell_type": "code",
   "execution_count": null,
   "metadata": {},
   "outputs": [],
   "source": [
    "## We will create an instance of the store service.\n",
    "When we call the XTStore constructor, we can choose to create/access a file-based store or\n",
    "an Azure-base "
   ]
  }
 ],
 "metadata": {
  "kernelspec": {
   "display_name": "Python 3.6 (exper)",
   "language": "python",
   "name": "exper"
  },
  "language_info": {
   "codemirror_mode": {
    "name": "ipython",
    "version": 3
   },
   "file_extension": ".py",
   "mimetype": "text/x-python",
   "name": "python",
   "nbconvert_exporter": "python",
   "pygments_lexer": "ipython3",
   "version": "3.6.8"
  }
 },
 "nbformat": 4,
 "nbformat_minor": 2
}
